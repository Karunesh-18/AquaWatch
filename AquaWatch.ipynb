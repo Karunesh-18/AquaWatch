{
  "cells": [
    {
      "cell_type": "code",
      "execution_count": 3,
      "metadata": {
        "id": "dng7Ph3peysu"
      },
      "outputs": [],
      "source": [
        "import pandas as pd\n",
        "import matplotlib.pyplot as plt\n",
        "import seaborn as sns"
      ]
    },
    {
      "cell_type": "code",
      "execution_count": null,
      "metadata": {
        "colab": {
          "base_uri": "https://localhost:8080/",
          "height": 223
        },
        "id": "09UUjHZ9eysv",
        "outputId": "09fd42a3-f832-4bac-edef-7caf99df0633"
      },
      "outputs": [],
      "source": [
        "import kagglehub\n",
        "\n",
        "# Download latest version\n",
        "path = kagglehub.dataset_download(\"adityakadiwal/water-potability\")\n",
        "\n",
        "df=pd.read_csv(f'{path}/water_potability.csv')\n",
        "df.head()"
      ]
    },
    {
      "cell_type": "markdown",
      "metadata": {
        "id": "XwE87Q-Aeysw"
      },
      "source": [
        "# Exploratory Data Analysis"
      ]
    },
    {
      "cell_type": "code",
      "execution_count": null,
      "metadata": {
        "colab": {
          "base_uri": "https://localhost:8080/"
        },
        "id": "C_BMkEZmeysw",
        "outputId": "01fe0939-61cc-4659-9908-130445bc5c18"
      },
      "outputs": [],
      "source": [
        "df.shape"
      ]
    },
    {
      "cell_type": "code",
      "execution_count": null,
      "metadata": {
        "colab": {
          "base_uri": "https://localhost:8080/",
          "height": 397
        },
        "id": "jOaJWNpueysx",
        "outputId": "9af3930c-9e2a-4bfa-9819-0b4bc8bf62c4"
      },
      "outputs": [],
      "source": [
        "df.isnull().sum()"
      ]
    },
    {
      "cell_type": "code",
      "execution_count": null,
      "metadata": {
        "colab": {
          "base_uri": "https://localhost:8080/"
        },
        "id": "Rs2dJc0Heysx",
        "outputId": "71f6addd-6dcc-4ec6-8565-5803e89c3f75"
      },
      "outputs": [],
      "source": [
        "df.info()"
      ]
    },
    {
      "cell_type": "code",
      "execution_count": null,
      "metadata": {
        "colab": {
          "base_uri": "https://localhost:8080/",
          "height": 300
        },
        "id": "kVdZGLh7eysx",
        "outputId": "e6ab9a5a-cabb-4110-e188-4a8eda50086e"
      },
      "outputs": [],
      "source": [
        "df.describe()"
      ]
    },
    {
      "cell_type": "code",
      "execution_count": null,
      "metadata": {
        "colab": {
          "base_uri": "https://localhost:8080/"
        },
        "id": "5oZvk71geysy",
        "outputId": "74211bc5-de04-40fb-9963-c16620ac420c"
      },
      "outputs": [],
      "source": [
        "df['Sulfate'].mean()"
      ]
    },
    {
      "cell_type": "code",
      "execution_count": null,
      "metadata": {
        "colab": {
          "base_uri": "https://localhost:8080/",
          "height": 206
        },
        "id": "g5veWB6Ieysy",
        "outputId": "8e234f96-9008-4b31-ab38-7ecd02b2abda"
      },
      "outputs": [],
      "source": [
        "df.fillna(df.mean(), inplace=True)\n",
        "df.head()"
      ]
    },
    {
      "cell_type": "code",
      "execution_count": null,
      "metadata": {
        "colab": {
          "base_uri": "https://localhost:8080/",
          "height": 397
        },
        "id": "jzLFcWgneysy",
        "outputId": "1f56e8ba-0257-4a21-8640-47163346e2a1"
      },
      "outputs": [],
      "source": [
        "df.isnull().sum()"
      ]
    },
    {
      "cell_type": "code",
      "execution_count": null,
      "metadata": {
        "colab": {
          "base_uri": "https://localhost:8080/"
        },
        "id": "u7BghRgQeysz",
        "outputId": "71890452-ed88-4a17-cbfa-ec3916c65432"
      },
      "outputs": [],
      "source": [
        "df.info()"
      ]
    },
    {
      "cell_type": "code",
      "execution_count": null,
      "metadata": {
        "colab": {
          "base_uri": "https://localhost:8080/",
          "height": 300
        },
        "id": "Y3TBZcMXeysz",
        "outputId": "cc7e1d58-939e-41d2-9de3-22862ffffdc0"
      },
      "outputs": [],
      "source": [
        "df.describe()"
      ]
    },
    {
      "cell_type": "code",
      "execution_count": null,
      "metadata": {
        "colab": {
          "base_uri": "https://localhost:8080/",
          "height": 178
        },
        "id": "I4efAXCSeysz",
        "outputId": "2b4f3e3e-4bd3-46b6-e59a-80d4224f3a14"
      },
      "outputs": [],
      "source": [
        "df.Potability.value_counts()"
      ]
    },
    {
      "cell_type": "code",
      "execution_count": null,
      "metadata": {
        "colab": {
          "base_uri": "https://localhost:8080/",
          "height": 444
        },
        "id": "s1rs-igieys0",
        "outputId": "c3973fbe-83de-4ec0-9b4d-ab3814007129"
      },
      "outputs": [],
      "source": [
        "df.Potability.value_counts().plot(kind=\"bar\", color=[\"brown\", \"salmon\"])\n",
        "plt.show()"
      ]
    },
    {
      "cell_type": "code",
      "execution_count": null,
      "metadata": {
        "colab": {
          "base_uri": "https://localhost:8080/",
          "height": 657
        },
        "id": "QWOFBpLBeys0",
        "outputId": "07dbebef-f942-4955-f945-957f49163673"
      },
      "outputs": [],
      "source": [
        "sns.distplot(df['ph'])"
      ]
    },
    {
      "cell_type": "code",
      "execution_count": null,
      "metadata": {
        "colab": {
          "base_uri": "https://localhost:8080/",
          "height": 1000
        },
        "id": "JruqR2jaeys0",
        "outputId": "7336f53c-d6c9-4f47-83ac-25064537990e"
      },
      "outputs": [],
      "source": [
        "df.hist(figsize=(14,14))\n",
        "plt.show()"
      ]
    },
    {
      "cell_type": "code",
      "execution_count": null,
      "metadata": {
        "colab": {
          "base_uri": "https://localhost:8080/",
          "height": 1000
        },
        "id": "L5Vg6ANAeys1",
        "outputId": "bb3ceb78-7e67-44c3-d49b-f803b141be91"
      },
      "outputs": [],
      "source": [
        "sns.pairplot(df,hue='Potability')"
      ]
    },
    {
      "cell_type": "code",
      "execution_count": null,
      "metadata": {
        "colab": {
          "base_uri": "https://localhost:8080/",
          "height": 466
        },
        "id": "QW2kyiMPeys1",
        "outputId": "93af3a01-2acf-4ee3-9593-d0e52d2e0146"
      },
      "outputs": [],
      "source": [
        "sns.scatterplot(x=df['Hardness'],y=df['Solids'])"
      ]
    },
    {
      "cell_type": "code",
      "execution_count": null,
      "metadata": {
        "colab": {
          "base_uri": "https://localhost:8080/",
          "height": 466
        },
        "id": "OpSk6AHbeys1",
        "outputId": "02d817a0-9a8b-44a1-ffd1-15844b098f1e"
      },
      "outputs": [],
      "source": [
        "sns.scatterplot(x=df['ph'],y=df['Potability'])"
      ]
    },
    {
      "cell_type": "code",
      "execution_count": null,
      "metadata": {
        "colab": {
          "base_uri": "https://localhost:8080/",
          "height": 629
        },
        "id": "RiHmKyjNeys1",
        "outputId": "3fe54399-3272-44b2-8bec-18bc4eb1baa8"
      },
      "outputs": [],
      "source": [
        "# create a correlation heatmap\n",
        "sns.heatmap(df.corr(),annot=True, cmap='terrain', linewidths=0.1)\n",
        "fig=plt.gcf()\n",
        "fig.set_size_inches(8,6)\n",
        "plt.show()"
      ]
    },
    {
      "cell_type": "code",
      "execution_count": null,
      "metadata": {
        "colab": {
          "base_uri": "https://localhost:8080/",
          "height": 616
        },
        "id": "3bWFhAhQeys2",
        "outputId": "1433c407-1ab5-42ca-e231-05c43f16781b"
      },
      "outputs": [],
      "source": [
        "df.boxplot(figsize=(14,7))"
      ]
    },
    {
      "cell_type": "code",
      "execution_count": null,
      "metadata": {
        "colab": {
          "base_uri": "https://localhost:8080/",
          "height": 335
        },
        "id": "opywFg0feys2",
        "outputId": "3c4ac98d-4425-441e-c504-f95fd11efbd7"
      },
      "outputs": [],
      "source": [
        "df['Solids'].describe()"
      ]
    },
    {
      "cell_type": "markdown",
      "metadata": {
        "id": "BQfH3x9peys2"
      },
      "source": [
        "# Partitioning"
      ]
    },
    {
      "cell_type": "code",
      "execution_count": null,
      "metadata": {
        "id": "TJreQTHbeys2"
      },
      "outputs": [],
      "source": [
        "X = df.drop('Potability',axis=1)"
      ]
    },
    {
      "cell_type": "code",
      "execution_count": null,
      "metadata": {
        "id": "v3guyQi5eys3"
      },
      "outputs": [],
      "source": [
        "Y= df['Potability']"
      ]
    },
    {
      "cell_type": "code",
      "execution_count": null,
      "metadata": {
        "id": "biIjeQdaeys3"
      },
      "outputs": [],
      "source": [
        "from sklearn.model_selection import train_test_split\n",
        "X_train, X_test, Y_train, Y_test = train_test_split(X,Y, test_size= 0.2, random_state=101,shuffle=True)"
      ]
    },
    {
      "cell_type": "code",
      "execution_count": null,
      "metadata": {
        "colab": {
          "base_uri": "https://localhost:8080/",
          "height": 178
        },
        "id": "ajuNxJjPeys3",
        "outputId": "64fb6096-647f-4603-b3bb-287a57961dc7"
      },
      "outputs": [],
      "source": [
        "Y_train.value_counts()"
      ]
    },
    {
      "cell_type": "code",
      "execution_count": null,
      "metadata": {
        "colab": {
          "base_uri": "https://localhost:8080/",
          "height": 178
        },
        "id": "OXqNc5rSeys3",
        "outputId": "8e311be4-b359-4d5e-8440-17ccd6203de5"
      },
      "outputs": [],
      "source": [
        "Y_test.value_counts()"
      ]
    },
    {
      "cell_type": "markdown",
      "metadata": {
        "id": "MmRX3uXOeys4"
      },
      "source": [
        "# Normalization"
      ]
    },
    {
      "cell_type": "code",
      "execution_count": null,
      "metadata": {
        "id": "y_DSuZ6Yeys4"
      },
      "outputs": [],
      "source": [
        "from sklearn.preprocessing import StandardScaler\n",
        "sc=StandardScaler()"
      ]
    },
    {
      "cell_type": "code",
      "execution_count": null,
      "metadata": {
        "id": "pAcT6SjDeys4"
      },
      "outputs": [],
      "source": [
        "X_train = sc.fit_transform(X_train)\n",
        "X_test = sc.transform(X_test)"
      ]
    },
    {
      "cell_type": "markdown",
      "metadata": {
        "id": "xASbIOyteys5"
      },
      "source": [
        "# Model Building"
      ]
    },
    {
      "cell_type": "markdown",
      "metadata": {
        "id": "mGLfTkVreys5"
      },
      "source": [
        "# DT"
      ]
    },
    {
      "cell_type": "code",
      "execution_count": null,
      "metadata": {
        "colab": {
          "base_uri": "https://localhost:8080/",
          "height": 80
        },
        "id": "GD5Mftr6eys5",
        "outputId": "b39276bc-6643-4584-caed-cd7e26323773"
      },
      "outputs": [],
      "source": [
        "from sklearn.tree import DecisionTreeClassifier\n",
        "from sklearn.metrics import accuracy_score,confusion_matrix,precision_score\n",
        "from sklearn.model_selection import GridSearchCV, StratifiedKFold\n",
        "# CV hyperparameter tuning to boost macro precision and accuracy\n",
        "param_grid = {\n",
        "    'criterion': ['gini', 'entropy'],\n",
        "    'splitter': ['best', 'random'],\n",
        "    'min_samples_split': [2, 4, 6, 8, 10],\n",
        "    'min_samples_leaf': [1, 2, 3, 5],\n",
        "    'max_depth': [None, 5, 10, 20],\n",
        "    'class_weight': [None, 'balanced'],\n",
        "}\n",
        "scoring = {'f1_macro': 'f1_macro', 'precision_macro': 'precision_macro', 'accuracy': 'accuracy'}\n",
        "cv = StratifiedKFold(n_splits=5, shuffle=True, random_state=101)\n",
        "gs = GridSearchCV(\n",
        "    estimator=DecisionTreeClassifier(random_state=101),\n",
        "    param_grid=param_grid,\n",
        "    scoring=scoring,\n",
        "    refit='f1_macro',\n",
        "    cv=cv,\n",
        "    n_jobs=-1,\n",
        ")\n",
        "gs.fit(X_train, Y_train)\n",
        "print('Best params:', gs.best_params_)\n",
        "print('Best CV f1_macro:', round(gs.best_score_, 4))\n",
        "dt = gs.best_estimator_\n",
        "dt"
      ]
    },
    {
      "cell_type": "code",
      "execution_count": null,
      "metadata": {
        "colab": {
          "base_uri": "https://localhost:8080/"
        },
        "id": "34wMVgzueys5",
        "outputId": "af8bf6e9-4b6b-4f97-d661-9206fda8f0c1"
      },
      "outputs": [],
      "source": [
        "prediction=dt.predict(X_test)\n",
        "accuracy_dt=accuracy_score(Y_test,prediction)*100\n",
        "accuracy_dt"
      ]
    },
    {
      "cell_type": "code",
      "execution_count": null,
      "metadata": {
        "colab": {
          "base_uri": "https://localhost:8080/"
        },
        "id": "l2PtitHweys5",
        "outputId": "f21d3fb2-c099-42c1-f9d9-75d4b029c831"
      },
      "outputs": [],
      "source": [
        "print(\"Accuracy on training set: {:.3f}\".format(dt.score(X_train, Y_train)))\n",
        "print(\"Accuracy on test set: {:.3f}\".format(dt.score(X_test, Y_test)))"
      ]
    },
    {
      "cell_type": "code",
      "execution_count": null,
      "metadata": {
        "id": "e-BjKpdSeys5"
      },
      "outputs": [],
      "source": []
    },
    {
      "cell_type": "code",
      "execution_count": null,
      "metadata": {
        "colab": {
          "base_uri": "https://localhost:8080/"
        },
        "id": "Bcm1XbiOeys6",
        "outputId": "56b17b6b-fa59-4b80-b020-d632554bd471"
      },
      "outputs": [],
      "source": [
        "accuracy_score(prediction,Y_test)"
      ]
    },
    {
      "cell_type": "code",
      "execution_count": null,
      "metadata": {
        "colab": {
          "base_uri": "https://localhost:8080/"
        },
        "id": "WOXOEy7oeys6",
        "outputId": "5812ca30-850e-44eb-cf4f-46f445143451"
      },
      "outputs": [],
      "source": [
        "print(\"Feature importances:\\n{}\".format(dt.feature_importances_))"
      ]
    },
    {
      "cell_type": "code",
      "execution_count": null,
      "metadata": {
        "colab": {
          "base_uri": "https://localhost:8080/"
        },
        "id": "tpJMXJe4eys7",
        "outputId": "00772412-22ee-4437-d361-60203e871f8f"
      },
      "outputs": [],
      "source": [
        "confusion_matrix(prediction,Y_test)"
      ]
    },
    {
      "cell_type": "markdown",
      "metadata": {
        "id": "TEmwrzRHeys7"
      },
      "source": [
        "# Prediction on only one set of data"
      ]
    },
    {
      "cell_type": "code",
      "execution_count": null,
      "metadata": {
        "id": "mLJbTXa-eys7"
      },
      "outputs": [],
      "source": [
        "X_DT=dt.predict([[5.735724, 158.318741,25363.016594,7.728601,377.543291,568.304671,13.626624,75.952337,4.732954]])"
      ]
    },
    {
      "cell_type": "code",
      "execution_count": null,
      "metadata": {
        "colab": {
          "base_uri": "https://localhost:8080/"
        },
        "id": "nFMhQrOieys7",
        "outputId": "c7af8e5d-3284-4a5c-e9e0-55a0d59434ef"
      },
      "outputs": [],
      "source": [
        "X_DT"
      ]
    },
    {
      "cell_type": "code",
      "execution_count": null,
      "metadata": {
        "id": "hwGzXGCGeys7"
      },
      "outputs": [],
      "source": []
    },
    {
      "cell_type": "code",
      "execution_count": null,
      "metadata": {
        "id": "CJRM0SzAeys7"
      },
      "outputs": [],
      "source": []
    },
    {
      "cell_type": "markdown",
      "metadata": {
        "id": "BQbZHBQneys7"
      },
      "source": [
        "# KNN"
      ]
    },
    {
      "cell_type": "code",
      "execution_count": null,
      "metadata": {
        "id": "Zb--qk-1eys8"
      },
      "outputs": [],
      "source": []
    },
    {
      "cell_type": "code",
      "execution_count": null,
      "metadata": {
        "id": "3qepFixreys8"
      },
      "outputs": [],
      "source": [
        "from sklearn.neighbors import KNeighborsClassifier"
      ]
    },
    {
      "cell_type": "code",
      "execution_count": null,
      "metadata": {
        "colab": {
          "base_uri": "https://localhost:8080/",
          "height": 80
        },
        "id": "cLS8S3vCeys8",
        "outputId": "4aa5f2a0-a74f-4b30-cdf4-0f458d3ac1bb"
      },
      "outputs": [],
      "source": [
        "from sklearn.model_selection import GridSearchCV, StratifiedKFold\n",
        "# CV hyperparameter tuning to boost macro precision and accuracy for KNN\n",
        "param_grid = {\n",
        "    'n_neighbors': list(range(1, 51)),\n",
        "    'weights': ['uniform', 'distance'],\n",
        "    'metric': ['euclidean', 'manhattan', 'minkowski'],\n",
        "    'p': [1, 2, 3],\n",
        "}\n",
        "scoring = {'f1_macro': 'f1_macro', 'precision_macro': 'precision_macro', 'accuracy': 'accuracy'}\n",
        "cv = StratifiedKFold(n_splits=5, shuffle=True, random_state=101)\n",
        "gs_knn = GridSearchCV(\n",
        "    estimator=KNeighborsClassifier(),\n",
        "    param_grid=param_grid,\n",
        "    scoring=scoring,\n",
        "    refit='f1_macro',\n",
        "    cv=cv,\n",
        "    n_jobs=-1,\n",
        ")\n",
        "gs_knn.fit(X_train, Y_train)\n",
        "print('Best params (KNN):', gs_knn.best_params_)\n",
        "print('Best CV f1_macro (KNN):', round(gs_knn.best_score_, 4))\n",
        "knn = gs_knn.best_estimator_\n",
        "knn"
      ]
    },
    {
      "cell_type": "code",
      "execution_count": null,
      "metadata": {
        "colab": {
          "base_uri": "https://localhost:8080/"
        },
        "id": "gOLEt-vBeys8",
        "outputId": "bfa0a6a3-cb43-465a-8a07-10f7b304b927"
      },
      "outputs": [],
      "source": [
        "prediction_knn=knn.predict(X_test)\n",
        "accuracy_knn=accuracy_score(Y_test,prediction_knn)*100\n",
        "print('accuracy_score score     : ',accuracy_score(Y_test,prediction_knn)*100,'%')"
      ]
    },
    {
      "cell_type": "code",
      "execution_count": null,
      "metadata": {
        "colab": {
          "base_uri": "https://localhost:8080/"
        },
        "id": "xlv6nWcGeys8",
        "outputId": "c8a16c13-64fb-4c47-8879-6d104798351a"
      },
      "outputs": [],
      "source": [
        "confusion_matrix(prediction,Y_test)"
      ]
    },
    {
      "cell_type": "code",
      "execution_count": null,
      "metadata": {
        "id": "yKpRVzB6eys8"
      },
      "outputs": [],
      "source": []
    },
    {
      "cell_type": "code",
      "execution_count": null,
      "metadata": {
        "id": "oc6r9P01eys9"
      },
      "outputs": [],
      "source": []
    },
    {
      "cell_type": "markdown",
      "metadata": {
        "id": "mUfCsQeReys9"
      },
      "source": [
        "# Hyperparameter Tuning / Model Optimization"
      ]
    },
    {
      "cell_type": "markdown",
      "metadata": {
        "id": "3D_MGF7Veys9"
      },
      "source": [
        "# DT HPT"
      ]
    },
    {
      "cell_type": "code",
      "execution_count": null,
      "metadata": {
        "colab": {
          "base_uri": "https://localhost:8080/"
        },
        "id": "vzjTlV85eys9",
        "outputId": "64c5f3ab-cb09-439f-f149-1361fa4d9aa3"
      },
      "outputs": [],
      "source": [
        "dt.get_params().keys()"
      ]
    },
    {
      "cell_type": "code",
      "execution_count": null,
      "metadata": {
        "colab": {
          "base_uri": "https://localhost:8080/"
        },
        "id": "i3c2j9vceys-",
        "outputId": "11f4af44-d4d9-4809-ccc2-5e3c2b05395a"
      },
      "outputs": [],
      "source": [
        "#example of grid searching key hyperparametres for logistic regression\n",
        "from sklearn.model_selection import RepeatedStratifiedKFold\n",
        "from sklearn.model_selection import GridSearchCV\n",
        "\n",
        "# define models and parameters\n",
        "model = DecisionTreeClassifier()\n",
        "criterion = [\"gini\", \"entropy\"]\n",
        "splitter = [\"best\", \"random\"]\n",
        "min_samples_split = [2,4,6,8,10]\n",
        "\n",
        "# define grid search\n",
        "grid = dict(splitter=splitter, criterion=criterion, min_samples_split=min_samples_split)\n",
        "cv = RepeatedStratifiedKFold(n_splits=10, n_repeats=3, random_state=1)\n",
        "grid_search_dt = GridSearchCV(estimator=model, param_grid=grid, n_jobs=-1, cv=cv,\n",
        "                           scoring='accuracy',error_score=0)\n",
        "grid_search_dt.fit(X_train, Y_train)\n",
        "\n",
        "# summarize results\n",
        "print(f\"Best: {grid_search_dt.best_score_:.3f} using {grid_search_dt.best_params_}\")\n",
        "means = grid_search_dt.cv_results_['mean_test_score']\n",
        "stds = grid_search_dt.cv_results_['std_test_score']\n",
        "params = grid_search_dt.cv_results_['params']\n",
        "\n",
        "for mean, stdev, param in zip(means, stds, params):\n",
        "    print(f\"{mean:.3f} ({stdev:.3f}) with: {param}\")\n",
        "\n",
        "print(\"Training Score:\",grid_search_dt.score(X_train, Y_train)*100)\n",
        "print(\"Testing Score:\", grid_search_dt.score(X_test, Y_test)*100)"
      ]
    },
    {
      "cell_type": "code",
      "execution_count": null,
      "metadata": {
        "colab": {
          "base_uri": "https://localhost:8080/"
        },
        "id": "7jTGg4Nleys-",
        "outputId": "985ff52e-7e24-4dbb-975a-ea3eb00c42ae"
      },
      "outputs": [],
      "source": [
        "from sklearn.metrics import  make_scorer, classification_report\n",
        "from sklearn.model_selection import cross_val_score\n",
        "\n",
        "def classification_report_with_accuracy_score(Y_test, y_pred2):\n",
        "    print (classification_report(Y_test, y_pred2)) # print classification report\n",
        "    return accuracy_score(Y_test, y_pred2) # return accuracy score\n",
        "\n",
        "\n",
        "nested_score = cross_val_score(grid_search_dt, X=X_train, y=Y_train, cv=cv,\n",
        "               scoring=make_scorer(classification_report_with_accuracy_score))\n",
        "print (nested_score)"
      ]
    },
    {
      "cell_type": "code",
      "execution_count": null,
      "metadata": {
        "id": "FYm7NLQ0eys-"
      },
      "outputs": [],
      "source": [
        "dt_y_predicted = grid_search_dt.predict(X_test)\n",
        "dt_y_predicted"
      ]
    },
    {
      "cell_type": "code",
      "execution_count": null,
      "metadata": {
        "id": "-1micDnZeys_"
      },
      "outputs": [],
      "source": [
        "grid_search_dt.best_params_"
      ]
    },
    {
      "cell_type": "code",
      "execution_count": null,
      "metadata": {
        "id": "fdKg0Jbweys_"
      },
      "outputs": [],
      "source": [
        "dt_grid_score=accuracy_score(Y_test, dt_y_predicted)\n",
        "dt_grid_score"
      ]
    },
    {
      "cell_type": "code",
      "execution_count": null,
      "metadata": {
        "id": "SApY6KdLeys_"
      },
      "outputs": [],
      "source": [
        "confusion_matrix(Y_test, dt_y_predicted)"
      ]
    },
    {
      "cell_type": "code",
      "execution_count": null,
      "metadata": {
        "id": "5TQShykNeys_"
      },
      "outputs": [],
      "source": []
    },
    {
      "cell_type": "code",
      "execution_count": null,
      "metadata": {
        "id": "67GupeOHeytA"
      },
      "outputs": [],
      "source": []
    },
    {
      "cell_type": "code",
      "execution_count": null,
      "metadata": {
        "id": "KnZjaqo9eytA"
      },
      "outputs": [],
      "source": []
    },
    {
      "cell_type": "markdown",
      "metadata": {
        "id": "NqavIFQheytA"
      },
      "source": [
        "# KNN HPT"
      ]
    },
    {
      "cell_type": "code",
      "execution_count": null,
      "metadata": {
        "id": "b8Wo0nPWeytA"
      },
      "outputs": [],
      "source": [
        "from sklearn.neighbors import KNeighborsClassifier\n",
        "from sklearn.model_selection import RepeatedStratifiedKFold\n",
        "from sklearn.model_selection import GridSearchCV\n",
        "\n",
        "# define models and parameters\n",
        "model = KNeighborsClassifier()\n",
        "n_neighbors = range(1, 31)\n",
        "weights = ['uniform', 'distance']\n",
        "metric = ['euclidean', 'manhattan', 'minkowski']\n",
        "\n",
        "# define grid search\n",
        "grid = dict(n_neighbors=n_neighbors,weights=weights,metric=metric)\n",
        "cv = RepeatedStratifiedKFold(n_splits=10, n_repeats=1, random_state=1)\n",
        "grid_search_knn = GridSearchCV(estimator=model, param_grid=grid, n_jobs=-1, cv=cv,\n",
        "                           scoring='accuracy',error_score=0, iid=True)\n",
        "grid_search_knn.fit(X_train, Y_train)\n",
        "\n",
        "# summarize results\n",
        "print(f\"Best: {grid_search_knn.best_score_:.3f} using {grid_search_knn.best_params_}\")\n",
        "means = grid_search_knn.cv_results_['mean_test_score']\n",
        "stds = grid_search_knn.cv_results_['std_test_score']\n",
        "params = grid_search_knn.cv_results_['params']\n",
        "\n",
        "for mean, stdev, param in zip(means, stds, params):\n",
        "    print(f\"{mean:.3f} ({stdev:.3f}) with: {param}\")"
      ]
    },
    {
      "cell_type": "code",
      "execution_count": null,
      "metadata": {
        "id": "2Jjr-STNeytA"
      },
      "outputs": [],
      "source": [
        "from sklearn.metrics import  make_scorer\n",
        "from sklearn.model_selection import cross_val_score\n",
        "\n",
        "def classification_report_with_accuracy_score(Y_test, y_pred2):\n",
        "    print (classification_report(Y_test, y_pred2)) # print classification report\n",
        "    return accuracy_score(Y_test, y_pred2) # return accuracy score\n",
        "\n",
        "\n",
        "nested_score = cross_val_score(grid_search_knn, X=X_train, y=Y_train, cv=cv,\n",
        "               scoring=make_scorer(classification_report_with_accuracy_score))\n",
        "print (nested_score)"
      ]
    },
    {
      "cell_type": "code",
      "execution_count": null,
      "metadata": {
        "id": "7efWH5_reytA"
      },
      "outputs": [],
      "source": [
        "knn_y_predicted = grid_search_knn.predict(X_test)"
      ]
    },
    {
      "cell_type": "code",
      "execution_count": null,
      "metadata": {
        "id": "3CgJyo-UeytA"
      },
      "outputs": [],
      "source": [
        "knn_y_predicted"
      ]
    },
    {
      "cell_type": "code",
      "execution_count": null,
      "metadata": {
        "id": "65xLC5kCeytB"
      },
      "outputs": [],
      "source": [
        "knn_grid_score=accuracy_score(Y_test, knn_y_predicted)"
      ]
    },
    {
      "cell_type": "code",
      "execution_count": null,
      "metadata": {
        "id": "E1dmMCLCeytB"
      },
      "outputs": [],
      "source": [
        "knn_grid_score"
      ]
    },
    {
      "cell_type": "code",
      "execution_count": null,
      "metadata": {
        "id": "ReOmy-o3eytB"
      },
      "outputs": [],
      "source": [
        "grid_search_knn.best_params_"
      ]
    },
    {
      "cell_type": "code",
      "execution_count": null,
      "metadata": {
        "id": "LfjwoFkleytB"
      },
      "outputs": [],
      "source": [
        "confusion_matrix(Y_test, knn_y_predicted)"
      ]
    },
    {
      "cell_type": "code",
      "execution_count": null,
      "metadata": {
        "id": "EJORVrITeytB"
      },
      "outputs": [],
      "source": []
    },
    {
      "cell_type": "markdown",
      "metadata": {
        "id": "OwPmN6PleytB"
      },
      "source": [
        "# Prediction on only one set of data"
      ]
    },
    {
      "cell_type": "code",
      "execution_count": null,
      "metadata": {
        "id": "c1sDqTugeytC"
      },
      "outputs": [],
      "source": [
        "X_KNN=knn.predict([[5.735724, 158.318741,25363.016594,7.728601,377.543291,568.304671,13.626624,75.952337,4.732954]])"
      ]
    },
    {
      "cell_type": "code",
      "execution_count": null,
      "metadata": {
        "id": "3W46C8e5eytC"
      },
      "outputs": [],
      "source": [
        "X_KNN"
      ]
    }
  ],
  "metadata": {
    "colab": {
      "provenance": []
    },
    "kernelspec": {
      "display_name": "Python 3",
      "language": "python",
      "name": "python3"
    },
    "language_info": {
      "codemirror_mode": {
        "name": "ipython",
        "version": 3
      },
      "file_extension": ".py",
      "mimetype": "text/x-python",
      "name": "python",
      "nbconvert_exporter": "python",
      "pygments_lexer": "ipython3",
      "version": "3.13.9"
    }
  },
  "nbformat": 4,
  "nbformat_minor": 0
}
